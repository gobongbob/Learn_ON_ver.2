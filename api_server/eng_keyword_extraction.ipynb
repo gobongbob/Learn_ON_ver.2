{
 "cells": [
  {
   "cell_type": "code",
   "execution_count": 10,
   "metadata": {},
   "outputs": [
    {
     "name": "stdout",
     "output_type": "stream",
     "text": [
      "- tokenize into words -\n",
      "['this', 'video', 'is', 'going', 'to', 'explain', 'how', 'to', 'find', 'inflection', 'points', 'on', 'a', 'graph', '.', 'So', 'let', \"'s\", 'suppose', 'we', 'have', 'a', 'graph', '.', 'So', 'here', \"'s\", 'a', 'nice', 'graph', '.', 'This', 'is', 'the', 'function', 'f', 'of', 'T', 'independent', 'variable', 'T', 'and', 'were', 'asked', 'to', 'find', 'What', 'are', 'the', 'inflection', 'points', '?', 'Well', ',', 'remember', ',', 'inflection', 'points', 'are', 'places', 'where', 'the', 'con', 'cavity', 'changes', ',', 'so', 'it', \"'s\", 'a', 'good', 'idea', 'to', 'remember', 'what', 'Con', 'cavity', 'is', '.', 'So', 'for', 'con', 'cavity', ',', 'we', 'have', 'con', 'cave', 'up', 'where', 'the', 'graph', 'is', 'turning', 'up', 'or', 'con', 'cave', 'down', 'where', 'the', 'graph', 'is', 'turning', 'down', '.', 'So', 'in', 'order', 'to', 'figure', 'out', 'where', 'the', 'con', 'cavity', 'changes', ',', 'we', 'need', 'to', 'figure', 'out', 'where', 'what', 'the', 'con', 'cavity', 'is', 'and', 'where', 'it', \"'s\", 'con', 'cave', 'up', 'and', 'where', 'it', \"'s\", 'Khan', 'came', 'down', '.', 'So', 'let', \"'s\", 'start', 'from', 'left', 'to', 'right', '.', 'We', 'started', 'on', 'the', 'left', 'hand', 'side', '.', 'We', 'look', 'at', 'this', 'function', '.', 'Looks', 'like', 'this', 'function', 'is', 'con', 'cave', 'up', '.', 'So', 'we', \"'re\", 'turning', 'upwards', 'now', 'at', 'some', 'point', ',', 'and', 'that', \"'s\", 'the', 'inflection', 'point', '.', 'We', 'start', 'to', 'turn', 'downwards', 'so', 'you', 'can', 'see', 'along', 'here', 'getting', 'red', '.', 'I', \"'m\", 'turning', 'downwards', ',', 'whereas', 'before', ',', 'up', 'until', 'the', 'red', 'part', ',', 'I', 'was', 'turning', 'upwards', '.', 'Okay', ',', 'Now', 'the', 'changes', 'where', 'the', 'inflection', 'point', 'is', 'that', 'change', 'Looks', 'like', 'it', \"'s\", 'about', 'right', 'here', '.', 'So', 'what', 'you', 'have', 'to', 'imagine', 'is', 'you', 'sort', 'of', 'turn', 'your', 'screen', 'sideways', 'and', 'you', \"'re\", 'a', 'race', 'car', 'that', \"'s\", 'racing', 'down', 'this', 'road', 'and', 'you', \"'re\", 'turning', 'left', '.', 'You', 'keep', 'turning', 'left', '.', 'That', 'means', 'you', \"'re\", 'Khan', 'gave', 'up', 'and', 'eventually', 'you', 'turn', 'your', 'race', 'car', 'to', 'the', 'right', 'In', 'your', 'race', 'cars', ',', 'you', \"'re\", 'traveling', 'from', 'left', 'to', 'right', '.', 'And', 'as', 'we', 'turn', 'to', 'the', 'right', 'here', ',', 'we', \"'re\", 'going', 'con', 'cave', 'down', 'and', 'then', 'we', 'can', 'Are', 'we', 'continue', 'along', 'our', 'highway', 'or', 'highway', 'takes', 'a', 'turn', 'to', 'the', 'left', '.', 'That', 'means', 'we', \"'re\", 'con', 'cave', 'up', 'until', 'we', 'get', 'to', 'while', 'we', 'keep', 'turning', 'until', 'we', 'get', 'to', 'about', 'right', 'here', 'where', 'we', 'start', 'turning', 'to', 'the', 'right', 'So', 'this', 'red', 'is', 'indicating', 'returning', 'to', 'the', 'right', '.', 'We', 'keep', 'turning', 'right', 'as', 'we', 'move', 'down', 'the', 'road', 'until', 'maybe', 'about', 'right', 'here', 'where', 'we', 'start', 'turning', 'left', 'again', 'And', 'so', 'we', \"'re\", 'We', \"'re\", 'along', 'this', 'red', 'segment', 'of', 'the', 'road', 'where', 'con', 'cave', 'down', 'We', \"'re\", 'turning', 'down', 'or', 'if', 'you', 'like', ',', 'we', \"'re\", 'turning', 'to', 'the', 'right', 'as', 'we', 'go', 'along', 'this', 'particular', 'road', 'from', 'left', 'to', 'right', 'and', 'then', 'we', 'start', 'turning', 'up', 'again', ',', 'turning', 'to', 'the', 'left', 'until', 'maybe', 'somewhere', 'around', 'here', 'where', 'that', 'we', 'have', 'a', 'nuke', 'turn', 'in', 'the', 'road', 'and', 'the', 'road', 'turns', 'to', 'the', 'right', '.', 'So', 'the', 'white', 'here', 'is', 'turning', 'to', 'the', 'left', 'or', 'con', 'cave', 'up', '.', 'We', 'have', 'an', 'inflection', 'point', 'at', 'this', 'green', 'point', 'here', '.', 'That', \"'s\", 'where', 'the', 'con', 'cavity', 'changes', 'where', 'we', 'change', 'the', 'direction', 'into', 'which', 'were', 'turning', '.', 'We', \"'re\", 'no', 'longer', 'turning', 'up', '.', 'We', \"'re\", 'turning', 'down', 'con', 'cave', 'down', '.', 'Then', 'we', 'have', 'another', 'inflection', 'point', 'where', 'now', 'we', \"'re\", 'turning', 'up', '.', 'We', 'have', 'an', 'inflection', 'point', 'here', 'because', 'now', 'we', \"'re\", 'going', 'to', 'turn', 'down', '.', 'Then', 'we', 'start', 'turning', 'up', 'again', '.', 'Then', 'we', 'turned', 'down', 'So', 'these', 'green', 'points', 'of', 'the', 'places', 'where', 'we', 'change', 'the', 'direction', 'in', 'which', 'returning', 'and', 'the', 'white', 'along', 'the', 'white', 'intervals', 'were', 'turning', 'up', 'along', 'the', 'red', 'intervals', 'were', 'turning', 'down', '.', 'So', 'these', ',', 'in', 'fact', ',', 'are', 'the', 'inflection', 'points', '.', 'These', 'are', 'the', 'places', 'where', 'we', 'change', 'the', 'direction', 'in', 'which', 'returning', '.', 'So', 'in', 'this', 'case', 'it', 'looks', 'like', 'there', 'are', 'altogether', 'five', 'inflection', 'points', '.', 'Those', 'are', 'the', 'places', 'where', 'the', 'can', 'cavity', 'changes']\n",
      "\n",
      "- remove stopwords -\n",
      "['video', 'going', 'explain', 'find', 'inflection', 'points', 'graph', '.', 'So', 'let', \"'s\", 'suppose', 'graph', '.', 'So', \"'s\", 'nice', 'graph', '.', 'This', 'function', 'f', 'T', 'independent', 'variable', 'T', 'asked', 'find', 'What', 'inflection', 'points', '?', 'Well', ',', 'remember', ',', 'inflection', 'points', 'places', 'con', 'cavity', 'changes', ',', \"'s\", 'good', 'idea', 'remember', 'Con', 'cavity', '.', 'So', 'con', 'cavity', ',', 'con', 'cave', 'graph', 'turning', 'con', 'cave', 'graph', 'turning', '.', 'So', 'order', 'figure', 'con', 'cavity', 'changes', ',', 'need', 'figure', 'con', 'cavity', \"'s\", 'con', 'cave', \"'s\", 'Khan', 'came', '.', 'So', 'let', \"'s\", 'start', 'left', 'right', '.', 'We', 'started', 'left', 'hand', 'side', '.', 'We', 'look', 'function', '.', 'Looks', 'like', 'function', 'con', 'cave', '.', 'So', \"'re\", 'turning', 'upwards', 'point', ',', \"'s\", 'inflection', 'point', '.', 'We', 'start', 'turn', 'downwards', 'see', 'along', 'getting', 'red', '.', 'I', \"'m\", 'turning', 'downwards', ',', 'whereas', ',', 'red', 'part', ',', 'I', 'turning', 'upwards', '.', 'Okay', ',', 'Now', 'changes', 'inflection', 'point', 'change', 'Looks', 'like', \"'s\", 'right', '.', 'So', 'imagine', 'sort', 'turn', 'screen', 'sideways', \"'re\", 'race', 'car', \"'s\", 'racing', 'road', \"'re\", 'turning', 'left', '.', 'You', 'keep', 'turning', 'left', '.', 'That', 'means', \"'re\", 'Khan', 'gave', 'eventually', 'turn', 'race', 'car', 'right', 'In', 'race', 'cars', ',', \"'re\", 'traveling', 'left', 'right', '.', 'And', 'turn', 'right', ',', \"'re\", 'going', 'con', 'cave', 'Are', 'continue', 'along', 'highway', 'highway', 'takes', 'turn', 'left', '.', 'That', 'means', \"'re\", 'con', 'cave', 'get', 'keep', 'turning', 'get', 'right', 'start', 'turning', 'right', 'So', 'red', 'indicating', 'returning', 'right', '.', 'We', 'keep', 'turning', 'right', 'move', 'road', 'maybe', 'right', 'start', 'turning', 'left', 'And', \"'re\", 'We', \"'re\", 'along', 'red', 'segment', 'road', 'con', 'cave', 'We', \"'re\", 'turning', 'like', ',', \"'re\", 'turning', 'right', 'go', 'along', 'particular', 'road', 'left', 'right', 'start', 'turning', ',', 'turning', 'left', 'maybe', 'somewhere', 'around', 'nuke', 'turn', 'road', 'road', 'turns', 'right', '.', 'So', 'white', 'turning', 'left', 'con', 'cave', '.', 'We', 'inflection', 'point', 'green', 'point', '.', 'That', \"'s\", 'con', 'cavity', 'changes', 'change', 'direction', 'turning', '.', 'We', \"'re\", 'longer', 'turning', '.', 'We', \"'re\", 'turning', 'con', 'cave', '.', 'Then', 'another', 'inflection', 'point', \"'re\", 'turning', '.', 'We', 'inflection', 'point', \"'re\", 'going', 'turn', '.', 'Then', 'start', 'turning', '.', 'Then', 'turned', 'So', 'green', 'points', 'places', 'change', 'direction', 'returning', 'white', 'along', 'white', 'intervals', 'turning', 'along', 'red', 'intervals', 'turning', '.', 'So', ',', 'fact', ',', 'inflection', 'points', '.', 'These', 'places', 'change', 'direction', 'returning', '.', 'So', 'case', 'looks', 'like', 'altogether', 'five', 'inflection', 'points', '.', 'Those', 'places', 'cavity', 'changes']\n",
      "\n",
      "- remove words less than three letters -\n",
      "['video', 'going', 'explain', 'find', 'inflection', 'points', 'graph', 'let', 'suppose', 'graph', 'nice', 'graph', 'This', 'function', 'independent', 'variable', 'asked', 'find', 'What', 'inflection', 'points', 'Well', 'remember', 'inflection', 'points', 'places', 'con', 'cavity', 'changes', 'good', 'idea', 'remember', 'Con', 'cavity', 'con', 'cavity', 'con', 'cave', 'graph', 'turning', 'con', 'cave', 'graph', 'turning', 'order', 'figure', 'con', 'cavity', 'changes', 'need', 'figure', 'con', 'cavity', 'con', 'cave', 'Khan', 'came', 'let', 'start', 'left', 'right', 'started', 'left', 'hand', 'side', 'look', 'function', 'Looks', 'like', 'function', 'con', 'cave', \"'re\", 'turning', 'upwards', 'point', 'inflection', 'point', 'start', 'turn', 'downwards', 'see', 'along', 'getting', 'red', 'turning', 'downwards', 'whereas', 'red', 'part', 'turning', 'upwards', 'Okay', 'Now', 'changes', 'inflection', 'point', 'change', 'Looks', 'like', 'right', 'imagine', 'sort', 'turn', 'screen', 'sideways', \"'re\", 'race', 'car', 'racing', 'road', \"'re\", 'turning', 'left', 'You', 'keep', 'turning', 'left', 'That', 'means', \"'re\", 'Khan', 'gave', 'eventually', 'turn', 'race', 'car', 'right', 'race', 'cars', \"'re\", 'traveling', 'left', 'right', 'And', 'turn', 'right', \"'re\", 'going', 'con', 'cave', 'Are', 'continue', 'along', 'highway', 'highway', 'takes', 'turn', 'left', 'That', 'means', \"'re\", 'con', 'cave', 'get', 'keep', 'turning', 'get', 'right', 'start', 'turning', 'right', 'red', 'indicating', 'returning', 'right', 'keep', 'turning', 'right', 'move', 'road', 'maybe', 'right', 'start', 'turning', 'left', 'And', \"'re\", \"'re\", 'along', 'red', 'segment', 'road', 'con', 'cave', \"'re\", 'turning', 'like', \"'re\", 'turning', 'right', 'along', 'particular', 'road', 'left', 'right', 'start', 'turning', 'turning', 'left', 'maybe', 'somewhere', 'around', 'nuke', 'turn', 'road', 'road', 'turns', 'right', 'white', 'turning', 'left', 'con', 'cave', 'inflection', 'point', 'green', 'point', 'That', 'con', 'cavity', 'changes', 'change', 'direction', 'turning', \"'re\", 'longer', 'turning', \"'re\", 'turning', 'con', 'cave', 'Then', 'another', 'inflection', 'point', \"'re\", 'turning', 'inflection', 'point', \"'re\", 'going', 'turn', 'Then', 'start', 'turning', 'Then', 'turned', 'green', 'points', 'places', 'change', 'direction', 'returning', 'white', 'along', 'white', 'intervals', 'turning', 'along', 'red', 'intervals', 'turning', 'fact', 'inflection', 'points', 'These', 'places', 'change', 'direction', 'returning', 'case', 'looks', 'like', 'altogether', 'five', 'inflection', 'points', 'Those', 'places', 'cavity', 'changes']\n",
      "\n",
      "- lower capitalization -\n",
      "['video', 'going', 'explain', 'find', 'inflection', 'points', 'graph', 'let', 'suppose', 'graph', 'nice', 'graph', 'this', 'function', 'independent', 'variable', 'asked', 'find', 'what', 'inflection', 'points', 'well', 'remember', 'inflection', 'points', 'places', 'con', 'cavity', 'changes', 'good', 'idea', 'remember', 'con', 'cavity', 'con', 'cavity', 'con', 'cave', 'graph', 'turning', 'con', 'cave', 'graph', 'turning', 'order', 'figure', 'con', 'cavity', 'changes', 'need', 'figure', 'con', 'cavity', 'con', 'cave', 'khan', 'came', 'let', 'start', 'left', 'right', 'started', 'left', 'hand', 'side', 'look', 'function', 'looks', 'like', 'function', 'con', 'cave', \"'re\", 'turning', 'upwards', 'point', 'inflection', 'point', 'start', 'turn', 'downwards', 'see', 'along', 'getting', 'red', 'turning', 'downwards', 'whereas', 'red', 'part', 'turning', 'upwards', 'okay', 'now', 'changes', 'inflection', 'point', 'change', 'looks', 'like', 'right', 'imagine', 'sort', 'turn', 'screen', 'sideways', \"'re\", 'race', 'car', 'racing', 'road', \"'re\", 'turning', 'left', 'you', 'keep', 'turning', 'left', 'that', 'means', \"'re\", 'khan', 'gave', 'eventually', 'turn', 'race', 'car', 'right', 'race', 'cars', \"'re\", 'traveling', 'left', 'right', 'and', 'turn', 'right', \"'re\", 'going', 'con', 'cave', 'are', 'continue', 'along', 'highway', 'highway', 'takes', 'turn', 'left', 'that', 'means', \"'re\", 'con', 'cave', 'get', 'keep', 'turning', 'get', 'right', 'start', 'turning', 'right', 'red', 'indicating', 'returning', 'right', 'keep', 'turning', 'right', 'move', 'road', 'maybe', 'right', 'start', 'turning', 'left', 'and', \"'re\", \"'re\", 'along', 'red', 'segment', 'road', 'con', 'cave', \"'re\", 'turning', 'like', \"'re\", 'turning', 'right', 'along', 'particular', 'road', 'left', 'right', 'start', 'turning', 'turning', 'left', 'maybe', 'somewhere', 'around', 'nuke', 'turn', 'road', 'road', 'turns', 'right', 'white', 'turning', 'left', 'con', 'cave', 'inflection', 'point', 'green', 'point', 'that', 'con', 'cavity', 'changes', 'change', 'direction', 'turning', \"'re\", 'longer', 'turning', \"'re\", 'turning', 'con', 'cave', 'then', 'another', 'inflection', 'point', \"'re\", 'turning', 'inflection', 'point', \"'re\", 'going', 'turn', 'then', 'start', 'turning', 'then', 'turned', 'green', 'points', 'places', 'change', 'direction', 'returning', 'white', 'along', 'white', 'intervals', 'turning', 'along', 'red', 'intervals', 'turning', 'fact', 'inflection', 'points', 'these', 'places', 'change', 'direction', 'returning', 'case', 'looks', 'like', 'altogether', 'five', 'inflection', 'points', 'those', 'places', 'cavity', 'changes']\n",
      "\n",
      "- lemmatization -\n",
      "['video', 'going', 'explain', 'find', 'inflection', 'point', 'graph', 'let', 'suppose', 'graph', 'nice', 'graph', 'this', 'function', 'independent', 'variable', 'asked', 'find', 'what', 'inflection', 'point', 'well', 'remember', 'inflection', 'point', 'place', 'con', 'cavity', 'change', 'good', 'idea', 'remember', 'con', 'cavity', 'con', 'cavity', 'con', 'cave', 'graph', 'turning', 'con', 'cave', 'graph', 'turning', 'order', 'figure', 'con', 'cavity', 'change', 'need', 'figure', 'con', 'cavity', 'con', 'cave', 'khan', 'came', 'let', 'start', 'left', 'right', 'started', 'left', 'hand', 'side', 'look', 'function', 'look', 'like', 'function', 'con', 'cave', \"'re\", 'turning', 'upwards', 'point', 'inflection', 'point', 'start', 'turn', 'downwards', 'see', 'along', 'getting', 'red', 'turning', 'downwards', 'whereas', 'red', 'part', 'turning', 'upwards', 'okay', 'now', 'change', 'inflection', 'point', 'change', 'look', 'like', 'right', 'imagine', 'sort', 'turn', 'screen', 'sideways', \"'re\", 'race', 'car', 'racing', 'road', \"'re\", 'turning', 'left', 'you', 'keep', 'turning', 'left', 'that', 'mean', \"'re\", 'khan', 'gave', 'eventually', 'turn', 'race', 'car', 'right', 'race', 'car', \"'re\", 'traveling', 'left', 'right', 'and', 'turn', 'right', \"'re\", 'going', 'con', 'cave', 'are', 'continue', 'along', 'highway', 'highway', 'take', 'turn', 'left', 'that', 'mean', \"'re\", 'con', 'cave', 'get', 'keep', 'turning', 'get', 'right', 'start', 'turning', 'right', 'red', 'indicating', 'returning', 'right', 'keep', 'turning', 'right', 'move', 'road', 'maybe', 'right', 'start', 'turning', 'left', 'and', \"'re\", \"'re\", 'along', 'red', 'segment', 'road', 'con', 'cave', \"'re\", 'turning', 'like', \"'re\", 'turning', 'right', 'along', 'particular', 'road', 'left', 'right', 'start', 'turning', 'turning', 'left', 'maybe', 'somewhere', 'around', 'nuke', 'turn', 'road', 'road', 'turn', 'right', 'white', 'turning', 'left', 'con', 'cave', 'inflection', 'point', 'green', 'point', 'that', 'con', 'cavity', 'change', 'change', 'direction', 'turning', \"'re\", 'longer', 'turning', \"'re\", 'turning', 'con', 'cave', 'then', 'another', 'inflection', 'point', \"'re\", 'turning', 'inflection', 'point', \"'re\", 'going', 'turn', 'then', 'start', 'turning', 'then', 'turned', 'green', 'point', 'place', 'change', 'direction', 'returning', 'white', 'along', 'white', 'interval', 'turning', 'along', 'red', 'interval', 'turning', 'fact', 'inflection', 'point', 'these', 'place', 'change', 'direction', 'returning', 'case', 'look', 'like', 'altogether', 'five', 'inflection', 'point', 'those', 'place', 'cavity', 'change']\n",
      "\n",
      "- lemmatization/verb -\n",
      "['video', 'go', 'explain', 'find', 'inflection', 'point', 'graph', 'let', 'suppose', 'graph', 'nice', 'graph', 'this', 'function', 'independent', 'variable', 'ask', 'find', 'what', 'inflection', 'point', 'well', 'remember', 'inflection', 'point', 'place', 'con', 'cavity', 'change', 'good', 'idea', 'remember', 'con', 'cavity', 'con', 'cavity', 'con', 'cave', 'graph', 'turn', 'con', 'cave', 'graph', 'turn', 'order', 'figure', 'con', 'cavity', 'change', 'need', 'figure', 'con', 'cavity', 'con', 'cave', 'khan', 'come', 'let', 'start', 'leave', 'right', 'start', 'leave', 'hand', 'side', 'look', 'function', 'look', 'like', 'function', 'con', 'cave', \"'re\", 'turn', 'upwards', 'point', 'inflection', 'point', 'start', 'turn', 'downwards', 'see', 'along', 'get', 'red', 'turn', 'downwards', 'whereas', 'red', 'part', 'turn', 'upwards', 'okay', 'now', 'change', 'inflection', 'point', 'change', 'look', 'like', 'right', 'imagine', 'sort', 'turn', 'screen', 'sideways', \"'re\", 'race', 'car', 'race', 'road', \"'re\", 'turn', 'leave', 'you', 'keep', 'turn', 'leave', 'that', 'mean', \"'re\", 'khan', 'give', 'eventually', 'turn', 'race', 'car', 'right', 'race', 'car', \"'re\", 'travel', 'leave', 'right', 'and', 'turn', 'right', \"'re\", 'go', 'con', 'cave', 'be', 'continue', 'along', 'highway', 'highway', 'take', 'turn', 'leave', 'that', 'mean', \"'re\", 'con', 'cave', 'get', 'keep', 'turn', 'get', 'right', 'start', 'turn', 'right', 'red', 'indicate', 'return', 'right', 'keep', 'turn', 'right', 'move', 'road', 'maybe', 'right', 'start', 'turn', 'leave', 'and', \"'re\", \"'re\", 'along', 'red', 'segment', 'road', 'con', 'cave', \"'re\", 'turn', 'like', \"'re\", 'turn', 'right', 'along', 'particular', 'road', 'leave', 'right', 'start', 'turn', 'turn', 'leave', 'maybe', 'somewhere', 'around', 'nuke', 'turn', 'road', 'road', 'turn', 'right', 'white', 'turn', 'leave', 'con', 'cave', 'inflection', 'point', 'green', 'point', 'that', 'con', 'cavity', 'change', 'change', 'direction', 'turn', \"'re\", 'longer', 'turn', \"'re\", 'turn', 'con', 'cave', 'then', 'another', 'inflection', 'point', \"'re\", 'turn', 'inflection', 'point', \"'re\", 'go', 'turn', 'then', 'start', 'turn', 'then', 'turn', 'green', 'point', 'place', 'change', 'direction', 'return', 'white', 'along', 'white', 'interval', 'turn', 'along', 'red', 'interval', 'turn', 'fact', 'inflection', 'point', 'these', 'place', 'change', 'direction', 'return', 'case', 'look', 'like', 'altogether', 'five', 'inflection', 'point', 'those', 'place', 'cavity', 'change']\n",
      "\n",
      "- stemming -\n",
      "['video', 'go', 'explain', 'find', 'inflect', 'point', 'graph', 'let', 'suppos', 'graph', 'nice', 'graph', 'thi', 'function', 'independ', 'variabl', 'ask', 'find', 'what', 'inflect', 'point', 'well', 'rememb', 'inflect', 'point', 'place', 'con', 'caviti', 'chang', 'good', 'idea', 'rememb', 'con', 'caviti', 'con', 'caviti', 'con', 'cave', 'graph', 'turn', 'con', 'cave', 'graph', 'turn', 'order', 'figur', 'con', 'caviti', 'chang', 'need', 'figur', 'con', 'caviti', 'con', 'cave', 'khan', 'come', 'let', 'start', 'leav', 'right', 'start', 'leav', 'hand', 'side', 'look', 'function', 'look', 'like', 'function', 'con', 'cave', \"'re\", 'turn', 'upward', 'point', 'inflect', 'point', 'start', 'turn', 'downward', 'see', 'along', 'get', 'red', 'turn', 'downward', 'wherea', 'red', 'part', 'turn', 'upward', 'okay', 'now', 'chang', 'inflect', 'point', 'chang', 'look', 'like', 'right', 'imagin', 'sort', 'turn', 'screen', 'sideway', \"'re\", 'race', 'car', 'race', 'road', \"'re\", 'turn', 'leav', 'you', 'keep', 'turn', 'leav', 'that', 'mean', \"'re\", 'khan', 'give', 'eventu', 'turn', 'race', 'car', 'right', 'race', 'car', \"'re\", 'travel', 'leav', 'right', 'and', 'turn', 'right', \"'re\", 'go', 'con', 'cave', 'be', 'continu', 'along', 'highway', 'highway', 'take', 'turn', 'leav', 'that', 'mean', \"'re\", 'con', 'cave', 'get', 'keep', 'turn', 'get', 'right', 'start', 'turn', 'right', 'red', 'indic', 'return', 'right', 'keep', 'turn', 'right', 'move', 'road', 'mayb', 'right', 'start', 'turn', 'leav', 'and', \"'re\", \"'re\", 'along', 'red', 'segment', 'road', 'con', 'cave', \"'re\", 'turn', 'like', \"'re\", 'turn', 'right', 'along', 'particular', 'road', 'leav', 'right', 'start', 'turn', 'turn', 'leav', 'mayb', 'somewher', 'around', 'nuke', 'turn', 'road', 'road', 'turn', 'right', 'white', 'turn', 'leav', 'con', 'cave', 'inflect', 'point', 'green', 'point', 'that', 'con', 'caviti', 'chang', 'chang', 'direct', 'turn', \"'re\", 'longer', 'turn', \"'re\", 'turn', 'con', 'cave', 'then', 'anoth', 'inflect', 'point', \"'re\", 'turn', 'inflect', 'point', \"'re\", 'go', 'turn', 'then', 'start', 'turn', 'then', 'turn', 'green', 'point', 'place', 'chang', 'direct', 'return', 'white', 'along', 'white', 'interv', 'turn', 'along', 'red', 'interv', 'turn', 'fact', 'inflect', 'point', 'these', 'place', 'chang', 'direct', 'return', 'case', 'look', 'like', 'altogeth', 'five', 'inflect', 'point', 'those', 'place', 'caviti', 'chang']\n",
      "\n",
      "-result-\n",
      "['video', 'go', 'explain', 'find', 'inflect', 'point', 'graph', 'let', 'suppos', 'graph', 'nice', 'graph', 'thi', 'function', 'independ', 'variabl', 'ask', 'find', 'what', 'inflect', 'point', 'well', 'rememb', 'inflect', 'point', 'place', 'con', 'caviti', 'chang', 'good', 'idea', 'rememb', 'con', 'caviti', 'con', 'caviti', 'con', 'cave', 'graph', 'turn', 'con', 'cave', 'graph', 'turn', 'order', 'figur', 'con', 'caviti', 'chang', 'need', 'figur', 'con', 'caviti', 'con', 'cave', 'khan', 'come', 'let', 'start', 'leav', 'right', 'start', 'leav', 'hand', 'side', 'look', 'function', 'look', 'like', 'function', 'con', 'cave', \"'re\", 'turn', 'upward', 'point', 'inflect', 'point', 'start', 'turn', 'downward', 'see', 'along', 'get', 'red', 'turn', 'downward', 'wherea', 'red', 'part', 'turn', 'upward', 'okay', 'now', 'chang', 'inflect', 'point', 'chang', 'look', 'like', 'right', 'imagin', 'sort', 'turn', 'screen', 'sideway', \"'re\", 'race', 'car', 'race', 'road', \"'re\", 'turn', 'leav', 'you', 'keep', 'turn', 'leav', 'that', 'mean', \"'re\", 'khan', 'give', 'eventu', 'turn', 'race', 'car', 'right', 'race', 'car', \"'re\", 'travel', 'leav', 'right', 'and', 'turn', 'right', \"'re\", 'go', 'con', 'cave', 'be', 'continu', 'along', 'highway', 'highway', 'take', 'turn', 'leav', 'that', 'mean', \"'re\", 'con', 'cave', 'get', 'keep', 'turn', 'get', 'right', 'start', 'turn', 'right', 'red', 'indic', 'return', 'right', 'keep', 'turn', 'right', 'move', 'road', 'mayb', 'right', 'start', 'turn', 'leav', 'and', \"'re\", \"'re\", 'along', 'red', 'segment', 'road', 'con', 'cave', \"'re\", 'turn', 'like', \"'re\", 'turn', 'right', 'along', 'particular', 'road', 'leav', 'right', 'start', 'turn', 'turn', 'leav', 'mayb', 'somewher', 'around', 'nuke', 'turn', 'road', 'road', 'turn', 'right', 'white', 'turn', 'leav', 'con', 'cave', 'inflect', 'point', 'green', 'point', 'that', 'con', 'caviti', 'chang', 'chang', 'direct', 'turn', \"'re\", 'longer', 'turn', \"'re\", 'turn', 'con', 'cave', 'then', 'anoth', 'inflect', 'point', \"'re\", 'turn', 'inflect', 'point', \"'re\", 'go', 'turn', 'then', 'start', 'turn', 'then', 'turn', 'green', 'point', 'place', 'chang', 'direct', 'return', 'white', 'along', 'white', 'interv', 'turn', 'along', 'red', 'interv', 'turn', 'fact', 'inflect', 'point', 'these', 'place', 'chang', 'direct', 'return', 'case', 'look', 'like', 'altogeth', 'five', 'inflect', 'point', 'those', 'place', 'caviti', 'chang']\n"
     ]
    }
   ],
   "source": [
    "import nltk\n",
    "from nltk.corpus import stopwords\n",
    "from nltk.stem import WordNetLemmatizer\n",
    "from nltk.stem import PorterStemmer\n",
    "\n",
    "# Data Preprocessing\n",
    "def preprocessing(text):\n",
    "    # tokenize into words\n",
    "    tokens = [word for sent in nltk.sent_tokenize(text)\n",
    "              for word in nltk.word_tokenize(sent)]\n",
    "\n",
    "    print( \"- tokenize into words -\" )\n",
    "    print( tokens )\n",
    "    print()\n",
    "    \n",
    "    # remove stopwords\n",
    "    stop = stopwords.words('english')\n",
    "    tokens = [token for token in tokens if token not in stop]\n",
    "\n",
    "    print( \"- remove stopwords -\" )\n",
    "    print( tokens )\n",
    "    print()\n",
    "    \n",
    "    # remove words less than three letters\n",
    "    tokens = [word for word in tokens if len(word) >= 3]\n",
    "\n",
    "    print( \"- remove words less than three letters -\" )\n",
    "    print( tokens )\n",
    "    print()\n",
    "    \n",
    "    # lower capitalization\n",
    "    tokens = [word.lower() for word in tokens]\n",
    "\n",
    "    print( \"- lower capitalization -\" )\n",
    "    print( tokens )\n",
    "    print()\n",
    "    \n",
    "    # lemmatization\n",
    "    lmtzr = WordNetLemmatizer()\n",
    "    tokens = [lmtzr.lemmatize(word) for word in tokens]\n",
    "\n",
    "    print( \"- lemmatization -\" )\n",
    "    print( tokens )\n",
    "    print()\n",
    "\n",
    "    tokens = [lmtzr.lemmatize(word, 'v') for word in tokens]\n",
    "\n",
    "    print( \"- lemmatization/verb -\" )\n",
    "    print( tokens )\n",
    "    print()\n",
    "\n",
    "    # stemming\n",
    "    stemmer = PorterStemmer()\n",
    "    tokens = [ stemmer.stem(word) for word in tokens ]\n",
    "\n",
    "    print( \"- stemming -\" )\n",
    "    print(tokens)\n",
    "    print()\n",
    "    \n",
    "    \n",
    "    return tokens\n",
    "\n",
    "# Transcript data input\n",
    "data = \"this video is going to explain how to find inflection points on a graph. So let's suppose we have a graph. So here's a nice graph. This is the function f of T independent variable T and were asked to find What are the inflection points? Well, remember, inflection points are places where the con cavity changes, so it's a good idea to remember what Con cavity is. So for con cavity, we have con cave up where the graph is turning up or con cave down where the graph is turning down. So in order to figure out where the con cavity changes, we need to figure out where what the con cavity is and where it's con cave up and where it's Khan came down. So let's start from left to right. We started on the left hand side. We look at this function. Looks like this function is con cave up. So we're turning upwards now at some point, and that's the inflection point. We start to turn downwards so you can see along here getting red. I'm turning downwards, whereas before, up until the red part, I was turning upwards. Okay, Now the changes where the inflection point is that change Looks like it's about right here. So what you have to imagine is you sort of turn your screen sideways and you're a race car that's racing down this road and you're turning left. You keep turning left. That means you're Khan gave up and eventually you turn your race car to the right In your race cars, you're traveling from left to right. And as we turn to the right here, we're going con cave down and then we can Are we continue along our highway or highway takes a turn to the left. That means we're con cave up until we get to while we keep turning until we get to about right here where we start turning to the right So this red is indicating returning to the right. We keep turning right as we move down the road until maybe about right here where we start turning left again And so we're We're along this red segment of the road where con cave down We're turning down or if you like, we're turning to the right as we go along this particular road from left to right and then we start turning up again, turning to the left until maybe somewhere around here where that we have a nuke turn in the road and the road turns to the right. So the white here is turning to the left or con cave up. We have an inflection point at this green point here. That's where the con cavity changes where we change the direction into which were turning. We're no longer turning up. We're turning down con cave down. Then we have another inflection point where now we're turning up. We have an inflection point here because now we're going to turn down. Then we start turning up again. Then we turned down So these green points of the places where we change the direction in which returning and the white along the white intervals were turning up along the red intervals were turning down. So these, in fact, are the inflection points. These are the places where we change the direction in which returning. So in this case it looks like there are altogether five inflection points. Those are the places where the can cavity changes\"\n",
    "\n",
    "# preprocessing Transcript data\n",
    "result = preprocessing(data)\n",
    "\n",
    "# print result\n",
    "print(\"-result-\")\n",
    "print (result)"
   ]
  },
  {
   "cell_type": "code",
   "execution_count": 11,
   "metadata": {},
   "outputs": [
    {
     "name": "stdout",
     "output_type": "stream",
     "text": [
      "\n",
      "word_list\n",
      "['keep', 'road', 'side', 'explain', 'longer', 'mean', 'let', 'travel', 'like', 'place', 'sideway', 'indic', 'good', 'race', 'graph', 'idea', 'khan', 'go', 'along', 'nice', 'return', 'take', 'okay', 'con', 'get', 'look', 'red', 'well', 'upward', 'independ', 'fact', 'ask', 'and', 'variabl', 'thi', 'that', 'chang', 'screen', 'sort', 'caviti', 'car', 'interv', 'altogeth', 'highway', 'leav', 'somewher', 'see', 'order', 'right', 'five', 'particular', 'downward', 'direct', 'these', 'hand', 'wherea', 'what', 'give', 'green', 'rememb', 'turn', 'find', 'come', 'white', 'need', 'anoth', 'cave', 'inflect', 'you', 'mayb', 'segment', 'part', 'now', 'eventu', 'nuke', 'suppos', 'be', 'move', 'those', 'around', 'video', 'point', 'then', 'case', 'start', 'function', \"'re\", 'imagin', 'figur', 'continu']\n",
      "word_len\n",
      "90\n",
      "{'video': 1, 'go': 3, 'explain': 1, 'find': 2, 'inflect': 10, 'point': 13, 'graph': 5, 'let': 2, 'suppos': 1, 'nice': 1, 'thi': 1, 'function': 3, 'independ': 1, 'variabl': 1, 'ask': 1, 'what': 1, 'well': 1, 'rememb': 2, 'place': 4, 'con': 15, 'caviti': 7, 'chang': 9, 'good': 1, 'idea': 1, 'cave': 9, 'turn': 32, 'order': 1, 'figur': 2, 'need': 1, 'khan': 2, 'come': 1, 'start': 7, 'leav': 10, 'right': 13, 'hand': 1, 'side': 1, 'look': 4, 'like': 4, \"'re\": 15, 'upward': 2, 'downward': 2, 'see': 1, 'along': 6, 'get': 3, 'red': 5, 'wherea': 1, 'part': 1, 'okay': 1, 'now': 1, 'imagin': 1, 'sort': 1, 'screen': 1, 'sideway': 1, 'race': 4, 'car': 3, 'road': 6, 'you': 1, 'keep': 3, 'that': 3, 'mean': 2, 'give': 1, 'eventu': 1, 'travel': 1, 'and': 2, 'be': 1, 'continu': 1, 'highway': 2, 'take': 1, 'indic': 1, 'return': 3, 'move': 1, 'mayb': 2, 'segment': 1, 'particular': 1, 'somewher': 1, 'around': 1, 'nuke': 1, 'white': 3, 'green': 2, 'direct': 3, 'longer': 1, 'then': 3, 'anoth': 1, 'interv': 2, 'fact': 1, 'these': 1, 'case': 1, 'altogeth': 1, 'five': 1, 'those': 1}\n"
     ]
    }
   ],
   "source": [
    "print()\n",
    "print(\"word_list\")\n",
    "\n",
    "word_list = list(set(result))\n",
    "word_len = len(word_list)\n",
    "\n",
    "print(word_list)\n",
    "\n",
    "print(\"word_len\")\n",
    "print(word_len)\n",
    "\n",
    "word_cnt = {}\n",
    "\n",
    "for i in result:\n",
    "    if(i in word_list):\n",
    "        if(i not in word_cnt.keys()):\n",
    "            word_cnt[i] = 1\n",
    "        else:\n",
    "            word_cnt[i] += 1\n",
    "    else:\n",
    "        continue\n",
    "\n",
    "print(word_cnt)"
   ]
  },
  {
   "cell_type": "code",
   "execution_count": 20,
   "metadata": {},
   "outputs": [
    {
     "name": "stdout",
     "output_type": "stream",
     "text": [
      "['turn', 'con', \"'re\", 'point', 'right', 'inflect', 'leav', 'chang', 'cave', 'caviti', 'start', 'along', 'road', 'graph', 'red', 'place', 'look', 'like', 'race', 'go', 'function', 'get', 'car', 'keep', 'that', 'return', 'white', 'direct', 'then', 'find', 'let', 'rememb', 'figur', 'khan', 'upward', 'downward', 'mean', 'and', 'highway', 'mayb', 'green', 'interv', 'video', 'explain', 'suppos', 'nice', 'thi', 'independ', 'variabl', 'ask', 'what', 'well', 'good', 'idea', 'order', 'need', 'come', 'hand', 'side', 'see', 'wherea', 'part', 'okay', 'now', 'imagin', 'sort', 'screen', 'sideway', 'you', 'give', 'eventu', 'travel', 'be', 'continu', 'take', 'indic', 'move', 'segment', 'particular', 'somewher', 'around', 'nuke', 'longer', 'anoth', 'fact', 'these', 'case', 'altogeth', 'five', 'those']\n"
     ]
    }
   ],
   "source": [
    "sort_word_cnt = sorted(word_cnt, key=lambda x:-word_cnt[x])\n",
    "print(sort_word_cnt)"
   ]
  },
  {
   "cell_type": "code",
   "execution_count": 22,
   "metadata": {},
   "outputs": [
    {
     "name": "stdout",
     "output_type": "stream",
     "text": [
      "['turn', 'con', \"'re\", 'point', 'right', 'inflect', 'leav', 'chang', 'cave', 'caviti']\n"
     ]
    }
   ],
   "source": [
    "print(sort_word_cnt[:10])"
   ]
  },
  {
   "cell_type": "code",
   "execution_count": null,
   "metadata": {},
   "outputs": [],
   "source": []
  }
 ],
 "metadata": {
  "kernelspec": {
   "display_name": "Python 3",
   "language": "python",
   "name": "python3"
  },
  "language_info": {
   "codemirror_mode": {
    "name": "ipython",
    "version": 3
   },
   "file_extension": ".py",
   "mimetype": "text/x-python",
   "name": "python",
   "nbconvert_exporter": "python",
   "pygments_lexer": "ipython3",
   "version": "3.8.5"
  }
 },
 "nbformat": 4,
 "nbformat_minor": 4
}
