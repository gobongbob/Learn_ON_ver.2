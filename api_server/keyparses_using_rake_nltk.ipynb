{
 "cells": [
  {
   "cell_type": "code",
   "execution_count": 1,
   "metadata": {},
   "outputs": [],
   "source": [
    "from rake_nltk import Rake"
   ]
  },
  {
   "cell_type": "code",
   "execution_count": 2,
   "metadata": {},
   "outputs": [],
   "source": [
    "r = Rake()"
   ]
  },
  {
   "cell_type": "code",
   "execution_count": 4,
   "metadata": {},
   "outputs": [],
   "source": [
    "import pandas as pd\n",
    "import json"
   ]
  },
  {
   "cell_type": "code",
   "execution_count": 16,
   "metadata": {},
   "outputs": [
    {
     "data": {
      "text/html": [
       "<div>\n",
       "<style scoped>\n",
       "    .dataframe tbody tr th:only-of-type {\n",
       "        vertical-align: middle;\n",
       "    }\n",
       "\n",
       "    .dataframe tbody tr th {\n",
       "        vertical-align: top;\n",
       "    }\n",
       "\n",
       "    .dataframe thead th {\n",
       "        text-align: right;\n",
       "    }\n",
       "</style>\n",
       "<table border=\"1\" class=\"dataframe\">\n",
       "  <thead>\n",
       "    <tr style=\"text-align: right;\">\n",
       "      <th></th>\n",
       "      <th>jobName</th>\n",
       "      <th>accountId</th>\n",
       "      <th>results</th>\n",
       "      <th>status</th>\n",
       "    </tr>\n",
       "  </thead>\n",
       "  <tbody>\n",
       "    <tr>\n",
       "      <th>items</th>\n",
       "      <td>1613918490560_example1.mp4</td>\n",
       "      <td>360294827452</td>\n",
       "      <td>[{'start_time': '0.54', 'end_time': '0.76', 'a...</td>\n",
       "      <td>COMPLETED</td>\n",
       "    </tr>\n",
       "    <tr>\n",
       "      <th>transcripts</th>\n",
       "      <td>1613918490560_example1.mp4</td>\n",
       "      <td>360294827452</td>\n",
       "      <td>[{'transcript': 'this video is going to explai...</td>\n",
       "      <td>COMPLETED</td>\n",
       "    </tr>\n",
       "  </tbody>\n",
       "</table>\n",
       "</div>"
      ],
      "text/plain": [
       "                                jobName     accountId  \\\n",
       "items        1613918490560_example1.mp4  360294827452   \n",
       "transcripts  1613918490560_example1.mp4  360294827452   \n",
       "\n",
       "                                                       results     status  \n",
       "items        [{'start_time': '0.54', 'end_time': '0.76', 'a...  COMPLETED  \n",
       "transcripts  [{'transcript': 'this video is going to explai...  COMPLETED  "
      ]
     },
     "execution_count": 16,
     "metadata": {},
     "output_type": "execute_result"
    }
   ],
   "source": [
    "file = pd.read_json(\"1613918490560_example1.mp4.json\")\n",
    "file"
   ]
  },
  {
   "cell_type": "code",
   "execution_count": 34,
   "metadata": {},
   "outputs": [
    {
     "data": {
      "text/plain": [
       "str"
      ]
     },
     "execution_count": 34,
     "metadata": {},
     "output_type": "execute_result"
    }
   ],
   "source": [
    "mytext = file.loc[\"transcripts\",\"results\"][0][\"transcript\"]\n",
    "type(mytext)"
   ]
  },
  {
   "cell_type": "code",
   "execution_count": 35,
   "metadata": {},
   "outputs": [],
   "source": [
    "r.extract_keywords_from_text(mytext)"
   ]
  },
  {
   "cell_type": "code",
   "execution_count": 39,
   "metadata": {},
   "outputs": [
    {
     "data": {
      "text/plain": [
       "[(13.55, 'altogether five inflection points'),\n",
       " (8.4, 'left hand side'),\n",
       " (8.0, 'maybe somewhere around'),\n",
       " (7.8, 'another inflection point'),\n",
       " (7.55, 'find inflection points'),\n",
       " (7.2666666666666675, 'keep turning left'),\n",
       " (7.0, 'going con cave'),\n",
       " (6.866666666666667, 'keep turning right'),\n",
       " (6.833333333333334, 'con cavity changes'),\n",
       " (6.6, 'start turning left')]"
      ]
     },
     "execution_count": 39,
     "metadata": {},
     "output_type": "execute_result"
    }
   ],
   "source": [
    "r.get_ranked_phrases_with_scores()[0:10]"
   ]
  }
 ],
 "metadata": {
  "kernelspec": {
   "display_name": "Python 3",
   "language": "python",
   "name": "python3"
  },
  "language_info": {
   "codemirror_mode": {
    "name": "ipython",
    "version": 3
   },
   "file_extension": ".py",
   "mimetype": "text/x-python",
   "name": "python",
   "nbconvert_exporter": "python",
   "pygments_lexer": "ipython3",
   "version": "3.8.5"
  }
 },
 "nbformat": 4,
 "nbformat_minor": 4
}
